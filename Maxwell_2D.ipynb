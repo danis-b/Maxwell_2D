{
 "cells": [
  {
   "cell_type": "markdown",
   "id": "fb6eeb4b",
   "metadata": {},
   "source": [
    "# Maxwell solver in 2D\n",
    "\n",
    "Maxwell's equations\n",
    "$$\n",
    "\\triangledown \\times \\mathbf{E} = -\\frac{\\partial \\mathbf{H}}{\\partial t}; \\, \\,\\, \\triangledown \\times \\mathbf{H} = \\frac{\\partial \\mathbf{E}}{\\partial t};\n",
    "$$\n",
    "\n",
    "in 2D with starting condition $\\mathbf{H} = (0, 0, H_z)$ have the following form:\n",
    "\n",
    "$$\n",
    "\\frac{\\partial E_x}{\\partial t} = \\frac{\\partial H_z}{\\partial y}; \\,\\,\\, \\frac{\\partial E_y}{\\partial t} = -\\frac{\\partial H_z}{\\partial x}; \\,\\,\\, \\frac{\\partial H_z}{\\partial t} = \\frac{\\partial E_x}{\\partial y} - \\frac{\\partial E_y}{\\partial x};\n",
    "$$\n"
   ]
  },
  {
   "cell_type": "code",
   "execution_count": null,
   "id": "26172d01",
   "metadata": {},
   "outputs": [],
   "source": [
    "import matplotlib.pyplot as plt\n",
    "import numpy as np\n",
    "from mpl_toolkits.mplot3d import axes3d\n",
    "import matplotlib.animation as animation\n",
    "from matplotlib.animation import PillowWriter\n",
    "from IPython.display import HTML\n",
    "\n",
    "\n",
    "plt.rcParams['figure.figsize'] = (10, 6)"
   ]
  },
  {
   "cell_type": "code",
   "execution_count": null,
   "id": "1856e86f",
   "metadata": {},
   "outputs": [],
   "source": [
    "# Mesh parameters\n",
    "nx, ny = 101, 101\n",
    "vx, dx = np.linspace(0, 1, nx, endpoint=True, retstep=True)\n",
    "vy, dy = np.linspace(0, 1, ny, endpoint=True, retstep=True)\n",
    "\n",
    "#Initialize Ex, Ey when time = 0\n",
    "ex = np.zeros((nx - 1, ny), dtype = np.double)  \n",
    "ey = np.zeros((nx, ny - 1), dtype = np.double) \n",
    "dt = 0.001     # time step\n",
    "m, n = 2, 2\n",
    "omega = np.sqrt((m * np.pi)**2 + (n * np.pi)**2)\n",
    "\n",
    "# Create the staggered grid for Bz\n",
    "x, y = np.meshgrid(0.5 * (vx[:-1] + vx[1:]), 0.5 * (vy[:-1] + vy[1:]))\n",
    "\n",
    "# initial conditions for hz at t = 0\n",
    "hz = np.cos(m * np.pi * y) * np.cos(n * np.pi * x) \n",
    "\n",
    "fig = plt.figure()\n",
    "axs = fig.add_subplot(111, projection='3d')\n",
    "axs.plot_wireframe(x, y, hz, rstride=2, cstride=2)"
   ]
  },
  {
   "cell_type": "code",
   "execution_count": null,
   "id": "5d75d444",
   "metadata": {
    "scrolled": true
   },
   "outputs": [],
   "source": [
    "def update_magnetic_field(ex, ey, hz) : \n",
    "    return hz + dt * ((ex[:, 1:] - ex[:, :-1]) / dy - (ey[1:, :] - ey[:-1, :]) / dx)\n",
    "\n",
    "def update_electric_field(hz, ex, ey):\n",
    "    ex[:, 1:-1] += dt * (hz[:, 1:] - hz[:, :-1]) / dy\n",
    "    ey[1:-1, :] += -dt * (hz[1:, :] - hz[:-1, :]) / dx\n",
    "\n",
    "    # periodic boundary conditions\n",
    "    ex[:, 0] += dt * (hz[:, 0] - hz[:, -1]) / dy\n",
    "    ex[:, -1] = ex[:, 0]\n",
    "    ey[0, :] += - dt * (hz[0, :]-hz[-1, :]) / dx\n",
    "    ey[-1, :] = ey[0, :]\n",
    "    return ex, ey\n",
    "\n",
    "\n",
    "def plot_frame(i, axs):\n",
    "    global ex, ey, hz\n",
    "\n",
    "    axs[0].cla()\n",
    "    axs[1].cla()\n",
    "\n",
    "    # Loops before plotting\n",
    "    for j in range(5):\n",
    "        ex, ey = update_electric_field(hz, ex, ey)\n",
    "        hz = update_magnetic_field(ex, ey, hz)\n",
    "    \n",
    "    frame1 = axs[0].plot_wireframe(x, y, hz, rstride=2, cstride=2)\n",
    "    axs[0].set_zlim(-1, 1)\n",
    "    axs[0].set_title('Magnetic field (Hz)')\n",
    "    axs[0].set_xlabel('x')\n",
    "    axs[0].set_ylabel('y')\n",
    "\n",
    "    frame2 = axs[1].plot_wireframe(x, y, ex[:, -1] + ey[1:, :], rstride=2, cstride=2)\n",
    "    axs[1].set_zlim(-1, 1)\n",
    "    axs[1].set_title('Electric field (Ex + Ey)')\n",
    "    axs[1].set_xlabel('x')\n",
    "    axs[1].set_ylabel('y')\n",
    "\n",
    "    return frame1, frame2\n",
    "\n",
    "\n",
    "\n",
    "fig, axs = plt.subplots(1, 2, figsize=(10, 5), subplot_kw={'projection': '3d'})\n",
    "ani = animation.FuncAnimation(fig, plot_frame, frames=range(200), fargs=(axs,), interval=20, blit=False)\n",
    "HTML(ani.to_html5_video())\n",
    "\n",
    "# ani.save('animation.gif', writer=PillowWriter(fps=20))\n",
    "# plt.show()"
   ]
  },
  {
   "cell_type": "code",
   "execution_count": null,
   "id": "7fc5f5b1",
   "metadata": {},
   "outputs": [],
   "source": []
  }
 ],
 "metadata": {
  "kernelspec": {
   "display_name": "Python 3 (ipykernel)",
   "language": "python",
   "name": "python3"
  },
  "language_info": {
   "codemirror_mode": {
    "name": "ipython",
    "version": 3
   },
   "file_extension": ".py",
   "mimetype": "text/x-python",
   "name": "python",
   "nbconvert_exporter": "python",
   "pygments_lexer": "ipython3",
   "version": "3.10.11"
  }
 },
 "nbformat": 4,
 "nbformat_minor": 5
}
