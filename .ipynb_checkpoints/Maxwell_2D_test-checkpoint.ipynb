{
 "cells": [
  {
   "cell_type": "code",
   "execution_count": null,
   "id": "c2e97477",
   "metadata": {},
   "outputs": [],
   "source": [
    "import matplotlib.pyplot as plt\n",
    "import numpy as np\n",
    "from mpl_toolkits.mplot3d import axes3d\n",
    "import matplotlib.animation as animation\n",
    "from IPython.display import HTML\n",
    "\n",
    "plt.rcParams['figure.figsize'] = (10, 6)"
   ]
  },
  {
   "cell_type": "code",
   "execution_count": null,
   "id": "e60f083c",
   "metadata": {},
   "outputs": [],
   "source": [
    "from scipy.ndimage import convolve\n",
    "\n",
    "# Mesh parameters\n",
    "nx, ny = 101, 101\n",
    "vx, dx = np.linspace(0, 1, nx, endpoint=True, retstep=True)\n",
    "vy, dy = np.linspace(0, 1, ny, endpoint=True, retstep=True)\n",
    "x, y = np.meshgrid(0.5 * (vx[:-1] + vx[1:]), 0.5 * (vy[:-1] + vy[1:]))\n",
    "\n",
    "# def magnetic_from_wire(elcur_val, x, y):\n",
    "#     r = np.sqrt((x - 0.5)**2 + (y - 0.5)**2) + 0.005\n",
    "#     hx = elcur_val / (2 * np.pi * r)\n",
    "#     hy = elcur_val / (2 * np.pi * r)\n",
    "    \n",
    "#     return hx, hy\n",
    "\n",
    "\n",
    "# def charge_density(x, y):\n",
    "#     sigma = 0.05 \n",
    "#     x0, y0 = 0.5, 0.5 \n",
    "#     rho0 = 50.0  \n",
    "#     return rho0 * np.exp(-((x - x0)**2 + (y - y0)**2) / (2 * sigma**2))\n",
    "    \n",
    "\n",
    "# def solve_poisson(rho, dx, dy, tol=1e-6, max_iter=10000):\n",
    "#     phi = np.zeros_like(rho)\n",
    "#     laplacian_kernel = np.array([[0, 1, 0],\n",
    "#                                  [1, -4, 1],\n",
    "#                                  [0, 1, 0]])\n",
    "\n",
    "#     for i in range(max_iter):\n",
    "#         phi_new = convolve(phi, laplacian_kernel, mode='constant', cval=0) * (dx * dy)\n",
    "#         phi_new += 4 * np.pi * rho * dx * dy\n",
    "#         if np.linalg.norm(phi_new - phi, ord=np.inf) < tol:\n",
    "#             break\n",
    "#         phi = phi_new\n",
    "        \n",
    "#     ex, ey = np.gradient(-phi, dx, dy)\n",
    "#     return ex, ey\n",
    "\n"
   ]
  },
  {
   "cell_type": "code",
   "execution_count": null,
   "id": "1cecd44c",
   "metadata": {},
   "outputs": [],
   "source": []
  }
 ],
 "metadata": {
  "kernelspec": {
   "display_name": "Python 3 (ipykernel)",
   "language": "python",
   "name": "python3"
  },
  "language_info": {
   "codemirror_mode": {
    "name": "ipython",
    "version": 3
   },
   "file_extension": ".py",
   "mimetype": "text/x-python",
   "name": "python",
   "nbconvert_exporter": "python",
   "pygments_lexer": "ipython3",
   "version": "3.10.11"
  }
 },
 "nbformat": 4,
 "nbformat_minor": 5
}
